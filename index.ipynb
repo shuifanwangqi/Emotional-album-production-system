{
 "cells": [
  {
   "cell_type": "code",
   "execution_count": null,
   "metadata": {},
   "outputs": [],
   "source": [
    "import sys#导入系统\n",
    "from PyQt5.QtWidgets import QApplication, QMainWindow, QWidget, QPushButton\n",
    "\n",
    "from EmotionRecongnition import Ui_MainWindow,FirstUi\n",
    "\"\"\"\n",
    "class FirstUi(QMainWindow):#第一个窗口类\n",
    "    def __init__(self):\n",
    "        super(FirstUi, self).__init__()\n",
    "        self.init_ui()\n",
    " \n",
    "    def init_ui(self):\n",
    "        self.resize(300, 200)#设置窗口大小\n",
    "        self.setWindowTitle('First Ui')#设置窗口标题\n",
    "        self.btn = QPushButton('jump', self)#设置按钮和按钮名称\n",
    "        self.btn.setGeometry(50, 100, 100, 50)#前面是按钮左上角坐标，后面是窗口大小\n",
    "        self.btn.clicked.connect(self.slot_btn_function)#将信号连接到槽\n",
    " \n",
    "    def slot_btn_function(self):\n",
    "        self.hide()#隐藏此窗口\n",
    "        self.s = Ui_MainWindow()#将第二个窗口换个名字\n",
    "\n",
    "        self.s.show()#经第二个窗口显示出来\n",
    "        \n",
    "\n",
    "class SecondUi(QWidget):#建立第二个窗口的类\n",
    "    def __init__(self):\n",
    "        super(SecondUi, self).__init__()\n",
    "        self.init_ui()\n",
    " \n",
    "    def init_ui(self):\n",
    "        self.resize(500, 350)#设置第二个窗口代码\n",
    "        self.setWindowTitle('Second Ui')#设置第二个窗口标题\n",
    "        self.btn = QPushButton('jump', self)#设置按钮和按钮名称\n",
    "        self.btn.setGeometry(150, 150, 100, 50)#前面是按钮左上角坐标，后面是按钮大小\n",
    "        self.btn.clicked.connect(self.slot_btn_function)#将信号连接到槽\n",
    " \n",
    "    def slot_btn_function(self):\n",
    "        self.hide()#隐藏此窗口\n",
    "        self.f = FirstUi()#将第一个窗口换个名字\n",
    "        self.f.show()#将第一个窗口显示出来\n",
    "\"\"\"\n",
    "def main():\n",
    "    app = QApplication(sys.argv)\n",
    "    window = QMainWindow()\n",
    "    ui = Ui_MainWindow(window)\n",
    "    window.show()\n",
    "    sys.exit(app.exec_())#app.exet_()是指程序一直循环运行直到主窗口被关闭终止进程（如果没有这句话，程序运行时会一闪而过）\n",
    " \n",
    " \n",
    "if __name__ == '__main__':#只有在本py文件中才能用，被调用就不执行\n",
    "    main()"
   ]
  },
  {
   "cell_type": "code",
   "execution_count": null,
   "metadata": {
    "collapsed": true
   },
   "outputs": [],
   "source": []
  }
 ],
 "metadata": {
  "kernelspec": {
   "display_name": "Python 3",
   "language": "python",
   "name": "python3"
  },
  "language_info": {
   "codemirror_mode": {
    "name": "ipython",
    "version": 3
   },
   "file_extension": ".py",
   "mimetype": "text/x-python",
   "name": "python",
   "nbconvert_exporter": "python",
   "pygments_lexer": "ipython3",
   "version": "3.6.2"
  }
 },
 "nbformat": 4,
 "nbformat_minor": 2
}
